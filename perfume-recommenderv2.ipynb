{
 "cells": [
  {
   "attachments": {},
   "cell_type": "markdown",
   "metadata": {},
   "source": [
    "### Perfume Recommendation System Using OpenAI API\n",
    "In this notebook, I will attempt to build a chatbot that offers perfume recommendations based on user input based on OpenAI's API.\n",
    "\n",
    "### Theory\n",
    "\n",
    "**_What is prompt engineering?_**<br>\n",
    "This is asking an AI questions in an effective manner to get desired results.\n",
    "\n",
    "**_What is GPT3?_**<br>\n",
    "A language model is a model that's trained to create patterns based upon user input and in turn generates intelligent text that is almost human coonverstaional based on the input pattern. Chatgpt3 is a language model owned by OpenAI that generates AI written text, it has more than 175 billion parameters(independent features). Given the model was released in 2022, training data is dated upto 2021 and sometimes one may need to update the data.\n",
    "\n",
    "**_What are word embeddings?_**<br>\n",
    "This is one of the methods for representing words as a numeric vector input that represents a word as alow dimensional vector.They allow for measurement of relatedness in words.\n",
    "\n",
    "Embeddings unlike countvectorization or TF-IDF transformations allow for preservation of semantics. Semantic analysis involves studying the arrangement of words and phrases to determine their relationship in a given context.\n",
    "\n",
    "The shorter the distance between vectors, the closer the relatedness. Some of the methods used to measure closeness includes: cosine similarity, euclidian distance among others.\n",
    "Read more on that  [here](https://medium.com/@elabongaatuo/building-a-content-based-perfume-recommender-system-using-python-18da91b53f6b)\n",
    "<br>\n",
    "OpenAI API - grants user access to the technology that powers gpt3 without necessarily having to understand its inner workings.\n",
    "\n",
    "Depending on the need you have for using OpenAI, there are four models that are offered: Ada, Babbage, Curie and Davinci. Their complexity, speed* and capability improves as you descend alphabetically. <br>\n",
    "<br>\n",
    "**_Davinci > Curie > Babbage > Ada_**\n",
    "\n",
    "### Project Breakdown\n",
    "1. Load dataset\n",
    "2. Perform tokenization -(split paragraphs/sentences into smaller units that can be assigned meaning)\n",
    "3. Choose preferred model according to need and get embeddings\n",
    "4. Save embeddings to vector database that allows for indexing and eliminates need for constant generation\n",
    "5. Create context for AI\n",
    "6. Define function that instructs how the model should respond to queries\n"
   ]
  },
  {
   "cell_type": "code",
   "execution_count": 1,
   "metadata": {},
   "outputs": [
    {
     "data": {
      "text/plain": [
       "\"\\nfrom openai.embeddings_utils import (\\n    get_embedding,\\n    distances_from_embeddings,\\n    indices_of_nearest_neighbors_from_distances,\\n)\\n\\n# constants\\nEMBEDDING_MODEL = 'babbage'\\n\""
      ]
     },
     "execution_count": 1,
     "metadata": {},
     "output_type": "execute_result"
    }
   ],
   "source": [
    "# installing necessary packages\n",
    "import pandas as pd\n",
    "import pickle \n",
    "'''\n",
    "from openai.embeddings_utils import (\n",
    "    get_embedding,\n",
    "    distances_from_embeddings,\n",
    "    indices_of_nearest_neighbors_from_distances,\n",
    ")\n",
    "\n",
    "# constants\n",
    "EMBEDDING_MODEL = 'babbage'\n",
    "'''"
   ]
  },
  {
   "cell_type": "code",
   "execution_count": 2,
   "metadata": {},
   "outputs": [
    {
     "data": {
      "text/html": [
       "<div>\n",
       "<style scoped>\n",
       "    .dataframe tbody tr th:only-of-type {\n",
       "        vertical-align: middle;\n",
       "    }\n",
       "\n",
       "    .dataframe tbody tr th {\n",
       "        vertical-align: top;\n",
       "    }\n",
       "\n",
       "    .dataframe thead th {\n",
       "        text-align: right;\n",
       "    }\n",
       "</style>\n",
       "<table border=\"1\" class=\"dataframe\">\n",
       "  <thead>\n",
       "    <tr style=\"text-align: right;\">\n",
       "      <th></th>\n",
       "      <th>base_notes</th>\n",
       "      <th>brand</th>\n",
       "      <th>gender</th>\n",
       "      <th>heart_notes</th>\n",
       "      <th>olfactory_family</th>\n",
       "      <th>perfume_name</th>\n",
       "      <th>top_notes</th>\n",
       "    </tr>\n",
       "  </thead>\n",
       "  <tbody>\n",
       "    <tr>\n",
       "      <th>0</th>\n",
       "      <td>amber,cedar,white musk</td>\n",
       "      <td>Lanvin</td>\n",
       "      <td>women</td>\n",
       "      <td>jasmine,lily of the valley,peony</td>\n",
       "      <td>floral</td>\n",
       "      <td>Éclat D'Arpège Sheer</td>\n",
       "      <td>lotus,tangerine–orange aroma,pitahaya</td>\n",
       "    </tr>\n",
       "    <tr>\n",
       "      <th>1</th>\n",
       "      <td>amber,cedar,musk</td>\n",
       "      <td>Lanvin</td>\n",
       "      <td>women</td>\n",
       "      <td>peach,tea,osmanthus,peony,wisteria</td>\n",
       "      <td>floral</td>\n",
       "      <td>Éclat D'Arpège</td>\n",
       "      <td>lemon,lilac</td>\n",
       "    </tr>\n",
       "    <tr>\n",
       "      <th>2</th>\n",
       "      <td>cedar,patchouli,sandalwood,vanilla</td>\n",
       "      <td>Davidoff</td>\n",
       "      <td>men</td>\n",
       "      <td>jasmine,lily of the valley,rose,geranium</td>\n",
       "      <td>oriental</td>\n",
       "      <td>Zino</td>\n",
       "      <td>bergamot,lavender,rosewood,sage</td>\n",
       "    </tr>\n",
       "    <tr>\n",
       "      <th>3</th>\n",
       "      <td>cedar,amber,frankincense,patchouli,musk</td>\n",
       "      <td>Shiseido</td>\n",
       "      <td>women</td>\n",
       "      <td>violet,freesia,gardenia,hyacinth,red apple,lil...</td>\n",
       "      <td>floral</td>\n",
       "      <td>Zen</td>\n",
       "      <td>pineapple,bergamot,orange,rose</td>\n",
       "    </tr>\n",
       "    <tr>\n",
       "      <th>4</th>\n",
       "      <td>patchouli,oak,vetiver</td>\n",
       "      <td>Yves Saint Laurent</td>\n",
       "      <td>women</td>\n",
       "      <td>rose</td>\n",
       "      <td>fruity</td>\n",
       "      <td>Yvresse</td>\n",
       "      <td>nectarine,anise,mint</td>\n",
       "    </tr>\n",
       "  </tbody>\n",
       "</table>\n",
       "</div>"
      ],
      "text/plain": [
       "                                base_notes               brand gender  \\\n",
       "0                   amber,cedar,white musk              Lanvin  women   \n",
       "1                         amber,cedar,musk              Lanvin  women   \n",
       "2       cedar,patchouli,sandalwood,vanilla            Davidoff    men   \n",
       "3  cedar,amber,frankincense,patchouli,musk            Shiseido  women   \n",
       "4                    patchouli,oak,vetiver  Yves Saint Laurent  women   \n",
       "\n",
       "                                         heart_notes olfactory_family  \\\n",
       "0                   jasmine,lily of the valley,peony           floral   \n",
       "1                 peach,tea,osmanthus,peony,wisteria           floral   \n",
       "2           jasmine,lily of the valley,rose,geranium         oriental   \n",
       "3  violet,freesia,gardenia,hyacinth,red apple,lil...           floral   \n",
       "4                                               rose           fruity   \n",
       "\n",
       "           perfume_name                              top_notes  \n",
       "0  Éclat D'Arpège Sheer  lotus,tangerine–orange aroma,pitahaya  \n",
       "1        Éclat D'Arpège                            lemon,lilac  \n",
       "2                  Zino        bergamot,lavender,rosewood,sage  \n",
       "3                   Zen         pineapple,bergamot,orange,rose  \n",
       "4               Yvresse                   nectarine,anise,mint  "
      ]
     },
     "execution_count": 2,
     "metadata": {},
     "output_type": "execute_result"
    }
   ],
   "source": [
    "# reading the perfume dataset\n",
    "data = pd.read_csv(\"perfume.csv\",index_col=[0])\n",
    "data.head()"
   ]
  },
  {
   "cell_type": "code",
   "execution_count": 3,
   "metadata": {},
   "outputs": [
    {
     "name": "stdout",
     "output_type": "stream",
     "text": [
      "<class 'pandas.core.frame.DataFrame'>\n",
      "Int64Index: 2128 entries, 0 to 2127\n",
      "Data columns (total 7 columns):\n",
      " #   Column            Non-Null Count  Dtype \n",
      "---  ------            --------------  ----- \n",
      " 0   base_notes        2128 non-null   object\n",
      " 1   brand             2128 non-null   object\n",
      " 2   gender            2128 non-null   object\n",
      " 3   heart_notes       2128 non-null   object\n",
      " 4   olfactory_family  2128 non-null   object\n",
      " 5   perfume_name      2128 non-null   object\n",
      " 6   top_notes         2128 non-null   object\n",
      "dtypes: object(7)\n",
      "memory usage: 133.0+ KB\n"
     ]
    }
   ],
   "source": [
    "#inspecting the dataset columns\n",
    "data.info()"
   ]
  },
  {
   "cell_type": "code",
   "execution_count": 4,
   "metadata": {},
   "outputs": [
    {
     "data": {
      "text/plain": [
       "floral       457\n",
       "oriental     444\n",
       "citrus       205\n",
       "fruity       195\n",
       "aromatic     187\n",
       "woody        164\n",
       "chypre       118\n",
       "spicy         84\n",
       "gourmand      68\n",
       "aquatic       48\n",
       "leather       39\n",
       "green         28\n",
       "smoky         28\n",
       "powdery       23\n",
       "synthetic     20\n",
       "fresh         20\n",
       "Name: olfactory_family, dtype: int64"
      ]
     },
     "execution_count": 4,
     "metadata": {},
     "output_type": "execute_result"
    }
   ],
   "source": [
    "# viewing olfactory family distribution\n",
    "data.olfactory_family.value_counts()"
   ]
  },
  {
   "cell_type": "code",
   "execution_count": 5,
   "metadata": {},
   "outputs": [
    {
     "name": "stderr",
     "output_type": "stream",
     "text": [
      "None of PyTorch, TensorFlow >= 2.0, or Flax have been found. Models won't be available and only tokenizers, configuration and file/data utilities can be used.\n"
     ]
    }
   ],
   "source": [
    "# importing word tokenizer package\n",
    "from transformers import GPT2TokenizerFast"
   ]
  },
  {
   "cell_type": "code",
   "execution_count": 6,
   "metadata": {},
   "outputs": [],
   "source": [
    "# creating a metadata column for perfumes (data about data)\n",
    "data['summary'] = \"Perfume Name: \" + data.perfume_name + \";Brand: \" + data.brand +  \";Gender: \" + data.gender + \";Top Notes: \" + data.top_notes + \";Base Notes: \" + data.base_notes + \";Heart Notes: \" +  data.heart_notes + \";Olfactory Family: \" + data.olfactory_family "
   ]
  },
  {
   "cell_type": "code",
   "execution_count": 7,
   "metadata": {},
   "outputs": [],
   "source": [
    "# tokenizing perfume metadata\n",
    "tokenizer = GPT2TokenizerFast.from_pretrained(\"gpt2\")\n",
    "data['n_tokens'] = data.summary.apply(lambda x: len(tokenizer.encode(x)))"
   ]
  },
  {
   "cell_type": "code",
   "execution_count": 8,
   "metadata": {},
   "outputs": [
    {
     "data": {
      "text/html": [
       "<div>\n",
       "<style scoped>\n",
       "    .dataframe tbody tr th:only-of-type {\n",
       "        vertical-align: middle;\n",
       "    }\n",
       "\n",
       "    .dataframe tbody tr th {\n",
       "        vertical-align: top;\n",
       "    }\n",
       "\n",
       "    .dataframe thead th {\n",
       "        text-align: right;\n",
       "    }\n",
       "</style>\n",
       "<table border=\"1\" class=\"dataframe\">\n",
       "  <thead>\n",
       "    <tr style=\"text-align: right;\">\n",
       "      <th></th>\n",
       "      <th>base_notes</th>\n",
       "      <th>brand</th>\n",
       "      <th>gender</th>\n",
       "      <th>heart_notes</th>\n",
       "      <th>olfactory_family</th>\n",
       "      <th>perfume_name</th>\n",
       "      <th>top_notes</th>\n",
       "      <th>summary</th>\n",
       "      <th>n_tokens</th>\n",
       "    </tr>\n",
       "  </thead>\n",
       "  <tbody>\n",
       "    <tr>\n",
       "      <th>0</th>\n",
       "      <td>amber,cedar,white musk</td>\n",
       "      <td>Lanvin</td>\n",
       "      <td>women</td>\n",
       "      <td>jasmine,lily of the valley,peony</td>\n",
       "      <td>floral</td>\n",
       "      <td>Éclat D'Arpège Sheer</td>\n",
       "      <td>lotus,tangerine–orange aroma,pitahaya</td>\n",
       "      <td>Perfume Name: Éclat D'Arpège Sheer;Brand: Lanv...</td>\n",
       "      <td>77</td>\n",
       "    </tr>\n",
       "    <tr>\n",
       "      <th>1</th>\n",
       "      <td>amber,cedar,musk</td>\n",
       "      <td>Lanvin</td>\n",
       "      <td>women</td>\n",
       "      <td>peach,tea,osmanthus,peony,wisteria</td>\n",
       "      <td>floral</td>\n",
       "      <td>Éclat D'Arpège</td>\n",
       "      <td>lemon,lilac</td>\n",
       "      <td>Perfume Name: Éclat D'Arpège;Brand: Lanvin;Gen...</td>\n",
       "      <td>69</td>\n",
       "    </tr>\n",
       "    <tr>\n",
       "      <th>2</th>\n",
       "      <td>cedar,patchouli,sandalwood,vanilla</td>\n",
       "      <td>Davidoff</td>\n",
       "      <td>men</td>\n",
       "      <td>jasmine,lily of the valley,rose,geranium</td>\n",
       "      <td>oriental</td>\n",
       "      <td>Zino</td>\n",
       "      <td>bergamot,lavender,rosewood,sage</td>\n",
       "      <td>Perfume Name: Zino;Brand: Davidoff;Gender: men...</td>\n",
       "      <td>76</td>\n",
       "    </tr>\n",
       "    <tr>\n",
       "      <th>3</th>\n",
       "      <td>cedar,amber,frankincense,patchouli,musk</td>\n",
       "      <td>Shiseido</td>\n",
       "      <td>women</td>\n",
       "      <td>violet,freesia,gardenia,hyacinth,red apple,lil...</td>\n",
       "      <td>floral</td>\n",
       "      <td>Zen</td>\n",
       "      <td>pineapple,bergamot,orange,rose</td>\n",
       "      <td>Perfume Name: Zen;Brand: Shiseido;Gender: wome...</td>\n",
       "      <td>85</td>\n",
       "    </tr>\n",
       "    <tr>\n",
       "      <th>4</th>\n",
       "      <td>patchouli,oak,vetiver</td>\n",
       "      <td>Yves Saint Laurent</td>\n",
       "      <td>women</td>\n",
       "      <td>rose</td>\n",
       "      <td>fruity</td>\n",
       "      <td>Yvresse</td>\n",
       "      <td>nectarine,anise,mint</td>\n",
       "      <td>Perfume Name: Yvresse;Brand: Yves Saint Lauren...</td>\n",
       "      <td>57</td>\n",
       "    </tr>\n",
       "  </tbody>\n",
       "</table>\n",
       "</div>"
      ],
      "text/plain": [
       "                                base_notes               brand gender  \\\n",
       "0                   amber,cedar,white musk              Lanvin  women   \n",
       "1                         amber,cedar,musk              Lanvin  women   \n",
       "2       cedar,patchouli,sandalwood,vanilla            Davidoff    men   \n",
       "3  cedar,amber,frankincense,patchouli,musk            Shiseido  women   \n",
       "4                    patchouli,oak,vetiver  Yves Saint Laurent  women   \n",
       "\n",
       "                                         heart_notes olfactory_family  \\\n",
       "0                   jasmine,lily of the valley,peony           floral   \n",
       "1                 peach,tea,osmanthus,peony,wisteria           floral   \n",
       "2           jasmine,lily of the valley,rose,geranium         oriental   \n",
       "3  violet,freesia,gardenia,hyacinth,red apple,lil...           floral   \n",
       "4                                               rose           fruity   \n",
       "\n",
       "           perfume_name                              top_notes  \\\n",
       "0  Éclat D'Arpège Sheer  lotus,tangerine–orange aroma,pitahaya   \n",
       "1        Éclat D'Arpège                            lemon,lilac   \n",
       "2                  Zino        bergamot,lavender,rosewood,sage   \n",
       "3                   Zen         pineapple,bergamot,orange,rose   \n",
       "4               Yvresse                   nectarine,anise,mint   \n",
       "\n",
       "                                             summary  n_tokens  \n",
       "0  Perfume Name: Éclat D'Arpège Sheer;Brand: Lanv...        77  \n",
       "1  Perfume Name: Éclat D'Arpège;Brand: Lanvin;Gen...        69  \n",
       "2  Perfume Name: Zino;Brand: Davidoff;Gender: men...        76  \n",
       "3  Perfume Name: Zen;Brand: Shiseido;Gender: wome...        85  \n",
       "4  Perfume Name: Yvresse;Brand: Yves Saint Lauren...        57  "
      ]
     },
     "execution_count": 8,
     "metadata": {},
     "output_type": "execute_result"
    }
   ],
   "source": [
    "# data inspection\n",
    "data.head()"
   ]
  },
  {
   "cell_type": "code",
   "execution_count": 9,
   "metadata": {},
   "outputs": [
    {
     "data": {
      "text/plain": [
       "0                                  Perfume Name: Éclat D'Arpège Sheer;Brand: Lanvin;Gender: women;Top Notes: lotus,tangerine–orange aroma,pitahaya;Base Notes: amber,cedar,white musk;Heart Notes: jasmine,lily of the valley,peony;Olfactory Family: floral\n",
       "1                                                                      Perfume Name: Éclat D'Arpège;Brand: Lanvin;Gender: women;Top Notes: lemon,lilac;Base Notes: amber,cedar,musk;Heart Notes: peach,tea,osmanthus,peony,wisteria;Olfactory Family: floral\n",
       "2                                  Perfume Name: Zino;Brand: Davidoff;Gender: men;Top Notes: bergamot,lavender,rosewood,sage;Base Notes: cedar,patchouli,sandalwood,vanilla;Heart Notes: jasmine,lily of the valley,rose,geranium;Olfactory Family: oriental\n",
       "3    Perfume Name: Zen;Brand: Shiseido;Gender: women;Top Notes: pineapple,bergamot,orange,rose;Base Notes: cedar,amber,frankincense,patchouli,musk;Heart Notes: violet,freesia,gardenia,hyacinth,red apple,lily of the valley,lotus;Olfactory Family: floral\n",
       "4                                                                                 Perfume Name: Yvresse;Brand: Yves Saint Laurent;Gender: women;Top Notes: nectarine,anise,mint;Base Notes: patchouli,oak,vetiver;Heart Notes: rose;Olfactory Family: fruity\n",
       "Name: summary, dtype: object"
      ]
     },
     "execution_count": 9,
     "metadata": {},
     "output_type": "execute_result"
    }
   ],
   "source": [
    "# adjusting display width and viewing perfume summary column\n",
    "pd.set_option('display.max_colwidth', 500)\n",
    "data['summary'].head()"
   ]
  },
  {
   "cell_type": "code",
   "execution_count": 10,
   "metadata": {},
   "outputs": [
    {
     "data": {
      "text/plain": [
       "<AxesSubplot: >"
      ]
     },
     "execution_count": 10,
     "metadata": {},
     "output_type": "execute_result"
    },
    {
     "data": {
      "image/png": "[encoded data removed]",
      "text/plain": [
       "<Figure size 640x480 with 1 Axes>"
      ]
     },
     "metadata": {},
     "output_type": "display_data"
    }
   ],
   "source": [
    "# visualizing token distribution\n",
    "data.n_tokens.hist(bins=100, log=True)"
   ]
  },
  {
   "cell_type": "code",
   "execution_count": 11,
   "metadata": {},
   "outputs": [],
   "source": [
    "# installing openai\n",
    "import openai"
   ]
  },
  {
   "cell_type": "code",
   "execution_count": 12,
   "metadata": {},
   "outputs": [],
   "source": [
    "# setting up user credentials for openai\n",
    "openai.api_key = \"your_api_key\""
   ]
  },
  {
   "cell_type": "code",
   "execution_count": 13,
   "metadata": {},
   "outputs": [
    {
     "data": {
      "text/html": [
       "<div>\n",
       "<style scoped>\n",
       "    .dataframe tbody tr th:only-of-type {\n",
       "        vertical-align: middle;\n",
       "    }\n",
       "\n",
       "    .dataframe tbody tr th {\n",
       "        vertical-align: top;\n",
       "    }\n",
       "\n",
       "    .dataframe thead th {\n",
       "        text-align: right;\n",
       "    }\n",
       "</style>\n",
       "<table border=\"1\" class=\"dataframe\">\n",
       "  <thead>\n",
       "    <tr style=\"text-align: right;\">\n",
       "      <th></th>\n",
       "      <th>base_notes</th>\n",
       "      <th>brand</th>\n",
       "      <th>gender</th>\n",
       "      <th>heart_notes</th>\n",
       "      <th>olfactory_family</th>\n",
       "      <th>perfume_name</th>\n",
       "      <th>top_notes</th>\n",
       "      <th>summary</th>\n",
       "      <th>n_tokens</th>\n",
       "      <th>embeddings</th>\n",
       "    </tr>\n",
       "  </thead>\n",
       "  <tbody>\n",
       "    <tr>\n",
       "      <th>0</th>\n",
       "      <td>amber,cedar,white musk</td>\n",
       "      <td>Lanvin</td>\n",
       "      <td>women</td>\n",
       "      <td>jasmine,lily of the valley,peony</td>\n",
       "      <td>floral</td>\n",
       "      <td>Éclat D'Arpège Sheer</td>\n",
       "      <td>lotus,tangerine–orange aroma,pitahaya</td>\n",
       "      <td>Perfume Name: Éclat D'Arpège Sheer;Brand: Lanvin;Gender: women;Top Notes: lotus,tangerine–orange aroma,pitahaya;Base Notes: amber,cedar,white musk;Heart Notes: jasmine,lily of the valley,peony;Olfactory Family: floral</td>\n",
       "      <td>77</td>\n",
       "      <td>[0.008845674805343151, 0.022967081516981125, -0.005501964595168829, 0.028577636927366257, 0.0010700777638703585, -0.005194288678467274, 0.013736812397837639, 0.010596711188554764, -0.026460105553269386, -0.01775469444692135, 0.04336416721343994, 0.011555935256183147, -0.002461405238136649, -0.005696523934602737, -0.014397410675883293, 0.029120594263076782, 0.03429678454995155, 0.0004917720216326416, 0.019166382029652596, 0.0685211792588234, 0.0721408873796463, 0.005221436731517315, -0.014650...</td>\n",
       "    </tr>\n",
       "    <tr>\n",
       "      <th>1</th>\n",
       "      <td>amber,cedar,musk</td>\n",
       "      <td>Lanvin</td>\n",
       "      <td>women</td>\n",
       "      <td>peach,tea,osmanthus,peony,wisteria</td>\n",
       "      <td>floral</td>\n",
       "      <td>Éclat D'Arpège</td>\n",
       "      <td>lemon,lilac</td>\n",
       "      <td>Perfume Name: Éclat D'Arpège;Brand: Lanvin;Gender: women;Top Notes: lemon,lilac;Base Notes: amber,cedar,musk;Heart Notes: peach,tea,osmanthus,peony,wisteria;Olfactory Family: floral</td>\n",
       "      <td>69</td>\n",
       "      <td>[0.014537605457007885, 0.01854613609611988, 5.146369221620262e-05, 0.023267295211553574, -0.02055930905044079, -0.008244211785495281, 0.011455490253865719, 0.010618153028190136, -0.023641424253582954, -0.02102251723408699, 0.03254926949739456, 0.011829620227217674, 0.002547644078731537, -0.00831992831081152, -0.02985910139977932, 0.029663128778338432, 0.022198352962732315, 0.012372998520731926, 0.010190576314926147, 0.06869731098413467, 0.06670195609331131, -0.0020866631530225277, -0.0099589...</td>\n",
       "    </tr>\n",
       "    <tr>\n",
       "      <th>2</th>\n",
       "      <td>cedar,patchouli,sandalwood,vanilla</td>\n",
       "      <td>Davidoff</td>\n",
       "      <td>men</td>\n",
       "      <td>jasmine,lily of the valley,rose,geranium</td>\n",
       "      <td>oriental</td>\n",
       "      <td>Zino</td>\n",
       "      <td>bergamot,lavender,rosewood,sage</td>\n",
       "      <td>Perfume Name: Zino;Brand: Davidoff;Gender: men;Top Notes: bergamot,lavender,rosewood,sage;Base Notes: cedar,patchouli,sandalwood,vanilla;Heart Notes: jasmine,lily of the valley,rose,geranium;Olfactory Family: oriental</td>\n",
       "      <td>76</td>\n",
       "      <td>[0.0069509828463196754, 0.029721442610025406, -0.013332138769328594, 0.02174386754631996, 0.02310059778392315, 0.00535004073753953, 0.007050476502627134, 0.005928912200033665, -0.02094792015850544, -0.03446095436811447, 0.01789979822933674, 0.008027322590351105, 0.023209135979413986, -0.006534918677061796, 0.0012165349908173084, 0.021834315732121468, 0.02324531599879265, -0.01116137020289898, 0.009840819053351879, 0.039037659764289856, 0.05817660689353943, 0.004117676988244057, -0.0229377914...</td>\n",
       "    </tr>\n",
       "    <tr>\n",
       "      <th>3</th>\n",
       "      <td>cedar,amber,frankincense,patchouli,musk</td>\n",
       "      <td>Shiseido</td>\n",
       "      <td>women</td>\n",
       "      <td>violet,freesia,gardenia,hyacinth,red apple,lily of the valley,lotus</td>\n",
       "      <td>floral</td>\n",
       "      <td>Zen</td>\n",
       "      <td>pineapple,bergamot,orange,rose</td>\n",
       "      <td>Perfume Name: Zen;Brand: Shiseido;Gender: women;Top Notes: pineapple,bergamot,orange,rose;Base Notes: cedar,amber,frankincense,patchouli,musk;Heart Notes: violet,freesia,gardenia,hyacinth,red apple,lily of the valley,lotus;Olfactory Family: floral</td>\n",
       "      <td>85</td>\n",
       "      <td>[0.004411517176777124, 0.03955574333667755, -0.007019923534244299, 0.025036944076418877, 0.00749417906627059, -0.0074049630202353, 0.022463755682110786, 0.010865621268749237, -0.004939772188663483, -0.04256092756986618, 0.029450809583067894, 0.01747702620923519, 0.02907516248524189, 0.0005112335784360766, -0.014866272918879986, 0.020247431471943855, 0.009330159053206444, -0.0007466005627065897, 0.019777871668338776, 0.04458942636847496, 0.05101301148533821, 0.007029314991086721, -0.014180715...</td>\n",
       "    </tr>\n",
       "    <tr>\n",
       "      <th>4</th>\n",
       "      <td>patchouli,oak,vetiver</td>\n",
       "      <td>Yves Saint Laurent</td>\n",
       "      <td>women</td>\n",
       "      <td>rose</td>\n",
       "      <td>fruity</td>\n",
       "      <td>Yvresse</td>\n",
       "      <td>nectarine,anise,mint</td>\n",
       "      <td>Perfume Name: Yvresse;Brand: Yves Saint Laurent;Gender: women;Top Notes: nectarine,anise,mint;Base Notes: patchouli,oak,vetiver;Heart Notes: rose;Olfactory Family: fruity</td>\n",
       "      <td>57</td>\n",
       "      <td>[0.013442113995552063, 0.022421961650252342, -0.02039365842938423, 0.03267410770058632, -0.02433962933719158, -0.006854740437120199, 0.01654910482466221, 0.010445757769048214, -0.020264584571123123, -0.03824272006750107, 0.012234351597726345, 0.019729850813746452, 0.019361069425940514, -0.0012734512565657496, -0.00846355315297842, 0.026072906330227852, 0.033411674201488495, 0.002286450006067753, 0.011303176172077656, 0.05701373890042305, 0.0689254030585289, 0.010722344741225243, -0.023307038...</td>\n",
       "    </tr>\n",
       "  </tbody>\n",
       "</table>\n",
       "</div>"
      ],
      "text/plain": [
       "                                base_notes               brand gender  \\\n",
       "0                   amber,cedar,white musk              Lanvin  women   \n",
       "1                         amber,cedar,musk              Lanvin  women   \n",
       "2       cedar,patchouli,sandalwood,vanilla            Davidoff    men   \n",
       "3  cedar,amber,frankincense,patchouli,musk            Shiseido  women   \n",
       "4                    patchouli,oak,vetiver  Yves Saint Laurent  women   \n",
       "\n",
       "                                                           heart_notes  \\\n",
       "0                                     jasmine,lily of the valley,peony   \n",
       "1                                   peach,tea,osmanthus,peony,wisteria   \n",
       "2                             jasmine,lily of the valley,rose,geranium   \n",
       "3  violet,freesia,gardenia,hyacinth,red apple,lily of the valley,lotus   \n",
       "4                                                                 rose   \n",
       "\n",
       "  olfactory_family          perfume_name  \\\n",
       "0           floral  Éclat D'Arpège Sheer   \n",
       "1           floral        Éclat D'Arpège   \n",
       "2         oriental                  Zino   \n",
       "3           floral                   Zen   \n",
       "4           fruity               Yvresse   \n",
       "\n",
       "                               top_notes  \\\n",
       "0  lotus,tangerine–orange aroma,pitahaya   \n",
       "1                            lemon,lilac   \n",
       "2        bergamot,lavender,rosewood,sage   \n",
       "3         pineapple,bergamot,orange,rose   \n",
       "4                   nectarine,anise,mint   \n",
       "\n",
       "                                                                                                                                                                                                                                                   summary  \\\n",
       "0                                Perfume Name: Éclat D'Arpège Sheer;Brand: Lanvin;Gender: women;Top Notes: lotus,tangerine–orange aroma,pitahaya;Base Notes: amber,cedar,white musk;Heart Notes: jasmine,lily of the valley,peony;Olfactory Family: floral   \n",
       "1                                                                    Perfume Name: Éclat D'Arpège;Brand: Lanvin;Gender: women;Top Notes: lemon,lilac;Base Notes: amber,cedar,musk;Heart Notes: peach,tea,osmanthus,peony,wisteria;Olfactory Family: floral   \n",
       "2                                Perfume Name: Zino;Brand: Davidoff;Gender: men;Top Notes: bergamot,lavender,rosewood,sage;Base Notes: cedar,patchouli,sandalwood,vanilla;Heart Notes: jasmine,lily of the valley,rose,geranium;Olfactory Family: oriental   \n",
       "3  Perfume Name: Zen;Brand: Shiseido;Gender: women;Top Notes: pineapple,bergamot,orange,rose;Base Notes: cedar,amber,frankincense,patchouli,musk;Heart Notes: violet,freesia,gardenia,hyacinth,red apple,lily of the valley,lotus;Olfactory Family: floral   \n",
       "4                                                                               Perfume Name: Yvresse;Brand: Yves Saint Laurent;Gender: women;Top Notes: nectarine,anise,mint;Base Notes: patchouli,oak,vetiver;Heart Notes: rose;Olfactory Family: fruity   \n",
       "\n",
       "   n_tokens  \\\n",
       "0        77   \n",
       "1        69   \n",
       "2        76   \n",
       "3        85   \n",
       "4        57   \n",
       "\n",
       "                                                                                                                                                                                                                                                                                                                                                                                                                                                                                                            embeddings  \n",
       "0  [0.008845674805343151, 0.022967081516981125, -0.005501964595168829, 0.028577636927366257, 0.0010700777638703585, -0.005194288678467274, 0.013736812397837639, 0.010596711188554764, -0.026460105553269386, -0.01775469444692135, 0.04336416721343994, 0.011555935256183147, -0.002461405238136649, -0.005696523934602737, -0.014397410675883293, 0.029120594263076782, 0.03429678454995155, 0.0004917720216326416, 0.019166382029652596, 0.0685211792588234, 0.0721408873796463, 0.005221436731517315, -0.014650...  \n",
       "1  [0.014537605457007885, 0.01854613609611988, 5.146369221620262e-05, 0.023267295211553574, -0.02055930905044079, -0.008244211785495281, 0.011455490253865719, 0.010618153028190136, -0.023641424253582954, -0.02102251723408699, 0.03254926949739456, 0.011829620227217674, 0.002547644078731537, -0.00831992831081152, -0.02985910139977932, 0.029663128778338432, 0.022198352962732315, 0.012372998520731926, 0.010190576314926147, 0.06869731098413467, 0.06670195609331131, -0.0020866631530225277, -0.0099589...  \n",
       "2  [0.0069509828463196754, 0.029721442610025406, -0.013332138769328594, 0.02174386754631996, 0.02310059778392315, 0.00535004073753953, 0.007050476502627134, 0.005928912200033665, -0.02094792015850544, -0.03446095436811447, 0.01789979822933674, 0.008027322590351105, 0.023209135979413986, -0.006534918677061796, 0.0012165349908173084, 0.021834315732121468, 0.02324531599879265, -0.01116137020289898, 0.009840819053351879, 0.039037659764289856, 0.05817660689353943, 0.004117676988244057, -0.0229377914...  \n",
       "3  [0.004411517176777124, 0.03955574333667755, -0.007019923534244299, 0.025036944076418877, 0.00749417906627059, -0.0074049630202353, 0.022463755682110786, 0.010865621268749237, -0.004939772188663483, -0.04256092756986618, 0.029450809583067894, 0.01747702620923519, 0.02907516248524189, 0.0005112335784360766, -0.014866272918879986, 0.020247431471943855, 0.009330159053206444, -0.0007466005627065897, 0.019777871668338776, 0.04458942636847496, 0.05101301148533821, 0.007029314991086721, -0.014180715...  \n",
       "4  [0.013442113995552063, 0.022421961650252342, -0.02039365842938423, 0.03267410770058632, -0.02433962933719158, -0.006854740437120199, 0.01654910482466221, 0.010445757769048214, -0.020264584571123123, -0.03824272006750107, 0.012234351597726345, 0.019729850813746452, 0.019361069425940514, -0.0012734512565657496, -0.00846355315297842, 0.026072906330227852, 0.033411674201488495, 0.002286450006067753, 0.011303176172077656, 0.05701373890042305, 0.0689254030585289, 0.010722344741225243, -0.023307038...  "
      ]
     },
     "execution_count": 13,
     "metadata": {},
     "output_type": "execute_result"
    }
   ],
   "source": [
    "# getting embeddings and choosing model\n",
    "embedding_model = 'babbage'\n",
    "\n",
    "from openai.embeddings_utils import get_embedding\n",
    "\n",
    "data['embeddings'] = data.summary.apply(lambda x: get_embedding(x, engine=f'text-search-{embedding_model}-doc-001'))\n",
    "data.head()"
   ]
  },
  {
   "cell_type": "code",
   "execution_count": 14,
   "metadata": {},
   "outputs": [],
   "source": [
    "# converting data to parquet which allows for flat columnar data storage\n",
    "data.to_parquet('marashi-babbage.parquet')"
   ]
  },
  {
   "cell_type": "code",
   "execution_count": 15,
   "metadata": {},
   "outputs": [
    {
     "name": "stdout",
     "output_type": "stream",
     "text": [
      "<class 'pandas.core.frame.DataFrame'>\n",
      "Int64Index: 2128 entries, 0 to 2127\n",
      "Data columns (total 10 columns):\n",
      " #   Column            Non-Null Count  Dtype \n",
      "---  ------            --------------  ----- \n",
      " 0   base_notes        2128 non-null   object\n",
      " 1   brand             2128 non-null   object\n",
      " 2   gender            2128 non-null   object\n",
      " 3   heart_notes       2128 non-null   object\n",
      " 4   olfactory_family  2128 non-null   object\n",
      " 5   perfume_name      2128 non-null   object\n",
      " 6   top_notes         2128 non-null   object\n",
      " 7   summary           2128 non-null   object\n",
      " 8   n_tokens          2128 non-null   int64 \n",
      " 9   embeddings        2128 non-null   object\n",
      "dtypes: int64(1), object(9)\n",
      "memory usage: 182.9+ KB\n"
     ]
    }
   ],
   "source": [
    "# reading the parquet file\n",
    "data = pd.read_parquet('marashi-babbage.parquet')\n",
    "data.head()\n",
    "data.info()"
   ]
  },
  {
   "cell_type": "code",
   "execution_count": 16,
   "metadata": {},
   "outputs": [],
   "source": [
    "# installing pinecone and setting up user credentials\n",
    "import pinecone\n",
    "pinecone.init(\n",
    "    api_key='your_pinecone_key',  \n",
    "    environment='your_pinecone_environment'\n",
    ")"
   ]
  },
  {
   "cell_type": "code",
   "execution_count": 17,
   "metadata": {},
   "outputs": [],
   "source": [
    "# reseting column display width\n",
    "pd.reset_option(\"display.max_colwidth\")"
   ]
  },
  {
   "cell_type": "code",
   "execution_count": 18,
   "metadata": {},
   "outputs": [
    {
     "data": {
      "text/html": [
       "<div>\n",
       "<style scoped>\n",
       "    .dataframe tbody tr th:only-of-type {\n",
       "        vertical-align: middle;\n",
       "    }\n",
       "\n",
       "    .dataframe tbody tr th {\n",
       "        vertical-align: top;\n",
       "    }\n",
       "\n",
       "    .dataframe thead th {\n",
       "        text-align: right;\n",
       "    }\n",
       "</style>\n",
       "<table border=\"1\" class=\"dataframe\">\n",
       "  <thead>\n",
       "    <tr style=\"text-align: right;\">\n",
       "      <th></th>\n",
       "      <th>base_notes</th>\n",
       "      <th>brand</th>\n",
       "      <th>gender</th>\n",
       "      <th>heart_notes</th>\n",
       "      <th>olfactory_family</th>\n",
       "      <th>perfume_name</th>\n",
       "      <th>top_notes</th>\n",
       "      <th>summary</th>\n",
       "      <th>n_tokens</th>\n",
       "      <th>embeddings</th>\n",
       "      <th>id</th>\n",
       "    </tr>\n",
       "  </thead>\n",
       "  <tbody>\n",
       "    <tr>\n",
       "      <th>0</th>\n",
       "      <td>amber,cedar,white musk</td>\n",
       "      <td>Lanvin</td>\n",
       "      <td>women</td>\n",
       "      <td>jasmine,lily of the valley,peony</td>\n",
       "      <td>floral</td>\n",
       "      <td>Éclat D'Arpège Sheer</td>\n",
       "      <td>lotus,tangerine–orange aroma,pitahaya</td>\n",
       "      <td>Perfume Name: Éclat D'Arpège Sheer;Brand: Lanv...</td>\n",
       "      <td>77</td>\n",
       "      <td>[0.008845674805343151, 0.022967081516981125, -...</td>\n",
       "      <td>0</td>\n",
       "    </tr>\n",
       "    <tr>\n",
       "      <th>1</th>\n",
       "      <td>amber,cedar,musk</td>\n",
       "      <td>Lanvin</td>\n",
       "      <td>women</td>\n",
       "      <td>peach,tea,osmanthus,peony,wisteria</td>\n",
       "      <td>floral</td>\n",
       "      <td>Éclat D'Arpège</td>\n",
       "      <td>lemon,lilac</td>\n",
       "      <td>Perfume Name: Éclat D'Arpège;Brand: Lanvin;Gen...</td>\n",
       "      <td>69</td>\n",
       "      <td>[0.014537605457007885, 0.01854613609611988, 5....</td>\n",
       "      <td>1</td>\n",
       "    </tr>\n",
       "    <tr>\n",
       "      <th>2</th>\n",
       "      <td>cedar,patchouli,sandalwood,vanilla</td>\n",
       "      <td>Davidoff</td>\n",
       "      <td>men</td>\n",
       "      <td>jasmine,lily of the valley,rose,geranium</td>\n",
       "      <td>oriental</td>\n",
       "      <td>Zino</td>\n",
       "      <td>bergamot,lavender,rosewood,sage</td>\n",
       "      <td>Perfume Name: Zino;Brand: Davidoff;Gender: men...</td>\n",
       "      <td>76</td>\n",
       "      <td>[0.0069509828463196754, 0.029721442610025406, ...</td>\n",
       "      <td>2</td>\n",
       "    </tr>\n",
       "    <tr>\n",
       "      <th>3</th>\n",
       "      <td>cedar,amber,frankincense,patchouli,musk</td>\n",
       "      <td>Shiseido</td>\n",
       "      <td>women</td>\n",
       "      <td>violet,freesia,gardenia,hyacinth,red apple,lil...</td>\n",
       "      <td>floral</td>\n",
       "      <td>Zen</td>\n",
       "      <td>pineapple,bergamot,orange,rose</td>\n",
       "      <td>Perfume Name: Zen;Brand: Shiseido;Gender: wome...</td>\n",
       "      <td>85</td>\n",
       "      <td>[0.004411517176777124, 0.03955574333667755, -0...</td>\n",
       "      <td>3</td>\n",
       "    </tr>\n",
       "    <tr>\n",
       "      <th>4</th>\n",
       "      <td>patchouli,oak,vetiver</td>\n",
       "      <td>Yves Saint Laurent</td>\n",
       "      <td>women</td>\n",
       "      <td>rose</td>\n",
       "      <td>fruity</td>\n",
       "      <td>Yvresse</td>\n",
       "      <td>nectarine,anise,mint</td>\n",
       "      <td>Perfume Name: Yvresse;Brand: Yves Saint Lauren...</td>\n",
       "      <td>57</td>\n",
       "      <td>[0.013442113995552063, 0.022421961650252342, -...</td>\n",
       "      <td>4</td>\n",
       "    </tr>\n",
       "  </tbody>\n",
       "</table>\n",
       "</div>"
      ],
      "text/plain": [
       "                                base_notes               brand gender  \\\n",
       "0                   amber,cedar,white musk              Lanvin  women   \n",
       "1                         amber,cedar,musk              Lanvin  women   \n",
       "2       cedar,patchouli,sandalwood,vanilla            Davidoff    men   \n",
       "3  cedar,amber,frankincense,patchouli,musk            Shiseido  women   \n",
       "4                    patchouli,oak,vetiver  Yves Saint Laurent  women   \n",
       "\n",
       "                                         heart_notes olfactory_family  \\\n",
       "0                   jasmine,lily of the valley,peony           floral   \n",
       "1                 peach,tea,osmanthus,peony,wisteria           floral   \n",
       "2           jasmine,lily of the valley,rose,geranium         oriental   \n",
       "3  violet,freesia,gardenia,hyacinth,red apple,lil...           floral   \n",
       "4                                               rose           fruity   \n",
       "\n",
       "           perfume_name                              top_notes  \\\n",
       "0  Éclat D'Arpège Sheer  lotus,tangerine–orange aroma,pitahaya   \n",
       "1        Éclat D'Arpège                            lemon,lilac   \n",
       "2                  Zino        bergamot,lavender,rosewood,sage   \n",
       "3                   Zen         pineapple,bergamot,orange,rose   \n",
       "4               Yvresse                   nectarine,anise,mint   \n",
       "\n",
       "                                             summary  n_tokens  \\\n",
       "0  Perfume Name: Éclat D'Arpège Sheer;Brand: Lanv...        77   \n",
       "1  Perfume Name: Éclat D'Arpège;Brand: Lanvin;Gen...        69   \n",
       "2  Perfume Name: Zino;Brand: Davidoff;Gender: men...        76   \n",
       "3  Perfume Name: Zen;Brand: Shiseido;Gender: wome...        85   \n",
       "4  Perfume Name: Yvresse;Brand: Yves Saint Lauren...        57   \n",
       "\n",
       "                                          embeddings id  \n",
       "0  [0.008845674805343151, 0.022967081516981125, -...  0  \n",
       "1  [0.014537605457007885, 0.01854613609611988, 5....  1  \n",
       "2  [0.0069509828463196754, 0.029721442610025406, ...  2  \n",
       "3  [0.004411517176777124, 0.03955574333667755, -0...  3  \n",
       "4  [0.013442113995552063, 0.022421961650252342, -...  4  "
      ]
     },
     "execution_count": 18,
     "metadata": {},
     "output_type": "execute_result"
    }
   ],
   "source": [
    "# creating an id column that will later allow for indexing\n",
    "data['id'] = [str(i) for i in range(len(data))]\n",
    "data.head()"
   ]
  },
  {
   "cell_type": "code",
   "execution_count": 19,
   "metadata": {},
   "outputs": [],
   "source": [
    "# creating vector database/index and  choosing cosine similarity as method to measure distance\n",
    "index_name = 'marashi-semantic-search'\n",
    "\n",
    "if not index_name in pinecone.list_indexes():\n",
    "    pinecone.create_index(\n",
    "        index_name, dimension=len(data['embeddings'].tolist()[0]),\n",
    "        metric='cosine'\n",
    "    )\n",
    "\n",
    "index = pinecone.Index(index_name)"
   ]
  },
  {
   "cell_type": "code",
   "execution_count": 20,
   "metadata": {},
   "outputs": [
    {
     "data": {
      "application/vnd.jupyter.widget-view+json": {
       "model_id": "5e9a884432c9451b9155059f720f8b5a",
       "version_major": 2,
       "version_minor": 0
      },
      "text/plain": [
       "  0%|          | 0/67 [00:00<?, ?it/s]"
      ]
     },
     "metadata": {},
     "output_type": "display_data"
    }
   ],
   "source": [
    "# uploading and inserting data to the vector database\n",
    "from tqdm.auto import tqdm\n",
    "\n",
    "batch_size = 32\n",
    "\n",
    "for i in tqdm(range(0, len(data), batch_size)):\n",
    "    i_end = min(i+batch_size, len(data))\n",
    "    data_slice = data.iloc[i:i_end]\n",
    "    to_upsert = [\n",
    "        (\n",
    "            row['id'],\n",
    "            row['embeddings'].tolist(),\n",
    "            {   \n",
    "                'perfume name': row['perfume_name'],\n",
    "                'brand': row['brand'],\n",
    "                'gender': row['gender'],\n",
    "                'top notes': row['top_notes'],\n",
    "                'base notes': row['base_notes'],\n",
    "                'heart notes': row['heart_notes'],\n",
    "                'olfactory family': row['olfactory_family'],\n",
    "                'n_tokens': row['n_tokens']\n",
    "            }\n",
    "        ) for _, row in data_slice.iterrows()\n",
    "    ]\n",
    "    index.upsert(vectors=to_upsert)"
   ]
  },
  {
   "cell_type": "code",
   "execution_count": 21,
   "metadata": {},
   "outputs": [],
   "source": [
    "# creating json file that will allow for reverse mapping by index\n",
    "mappings = {row['id']: row['summary'] for _, row in data[['id', 'summary']].iterrows()}"
   ]
  },
  {
   "cell_type": "code",
   "execution_count": 22,
   "metadata": {},
   "outputs": [],
   "source": [
    "import json\n",
    "\n",
    "with open('marashi-mapping.json', 'w') as fp:\n",
    "    json.dump(mappings, fp)"
   ]
  },
  {
   "cell_type": "code",
   "execution_count": 23,
   "metadata": {},
   "outputs": [],
   "source": [
    "with open('marashi-mapping.json', 'r') as fp:\n",
    "    mappings = json.load(fp)"
   ]
  },
  {
   "cell_type": "code",
   "execution_count": 97,
   "metadata": {},
   "outputs": [],
   "source": [
    "# creating a function that allows for reverse mapping\n",
    "def load_index():\n",
    "    pinecone.init(\n",
    "        api_key='your_api_key',  \n",
    "        environment='your_environment'\n",
    "    )\n",
    "\n",
    "    index_name = 'marashi-semantic-search'\n",
    "\n",
    "    if not index_name in pinecone.list_indexes():\n",
    "        raise KeyError(f\"Index '{index_name}' does not exist.\")\n",
    "\n",
    "    return pinecone.Index(index_name)"
   ]
  },
  {
   "cell_type": "code",
   "execution_count": 94,
   "metadata": {},
   "outputs": [],
   "source": [
    "index = load_index()"
   ]
  },
  {
   "cell_type": "code",
   "execution_count": 95,
   "metadata": {},
   "outputs": [],
   "source": [
    "# creating context for the AI\n",
    "def create_context( question,index, max_len=3750, size=\"babbage\"):\n",
    "    \"\"\"\n",
    "    Find most relevant context for a question via Pinecone search\n",
    "    \"\"\"\n",
    "    \n",
    "    q_embed = get_embedding(question, engine=f'text-search-{size}-query-001')\n",
    "    res = index.query(q_embed, top_k=5, include_metadata=True)\n",
    "    \n",
    "\n",
    "    cur_len = 0\n",
    "    contexts = []\n",
    "\n",
    "    for row in res['matches']:\n",
    "        text = mappings[row['id']]\n",
    "        cur_len += row['metadata']['n_tokens'] + 4\n",
    "        if cur_len < max_len:\n",
    "            contexts.append(text)\n",
    "        else:\n",
    "            cur_len -= row['metadata']['n_tokens'] + 4\n",
    "            if max_len - cur_len < 200:\n",
    "                break\n",
    "    return \"\\n\\n###\\n\\n\".join(contexts)"
   ]
  },
  {
   "cell_type": "code",
   "execution_count": 96,
   "metadata": {},
   "outputs": [
    {
     "name": "stdout",
     "output_type": "stream",
     "text": [
      "Perfume Name: Vanille Paradoxe;Brand: Les Parfums de Rosine;Gender: unisex;Top Notes: juniper,rosemary,grapefruit;Base Notes: vanilla,ambroxan,musk;Heart Notes: cedar,cardamom,angelica,rose;Olfactory Family: spicy\n",
      "\n",
      "###\n",
      "\n",
      "Perfume Name: Eau De Fleur De Lavande;Brand: Chloé;Gender: women;Top Notes: violet blossom,bergamot,citrusy notes,green notes;Base Notes: ambergris,cedar,vetiver,cashmeran,white musks;Heart Notes: lavender,iris,tea;Olfactory Family: floral\n",
      "\n",
      "###\n",
      "\n",
      "Perfume Name: Vanilla Affair;Brand: Essential Garden;Gender: women;Top Notes: musk;Base Notes: sandalwood;Heart Notes: vanilla,heliotrope;Olfactory Family: gourmand\n",
      "\n",
      "###\n",
      "\n",
      "Perfume Name: Flora Bella;Brand: Lalique;Gender: women;Top Notes: bergamot,mandarin orange,rose,violet;Base Notes: amber,spices,vanilla,white musk;Heart Notes: lilac,frangipani,freesia,cassia,mimosa,carnation,orchid,daphne,almond,tuberose,vanilla;Olfactory Family: floral\n",
      "\n",
      "###\n",
      "\n",
      "Perfume Name: Vanille Monoï - Eau De Parfum;Brand: Les Senteurs Gourmandes;Gender: women;Top Notes: tiare flower,vanilla orchid;Base Notes: coconut;Heart Notes: cocoa;Olfactory Family: floral\n"
     ]
    }
   ],
   "source": [
    "print(create_context(\"i need a perfume with vanilla and lavender top notes\", index))"
   ]
  },
  {
   "cell_type": "code",
   "execution_count": 101,
   "metadata": {},
   "outputs": [],
   "source": [
    "# prompting AI to answer questions based on context\n",
    "def answer_question(\n",
    "    index,\n",
    "    fine_tuned_qa_model=\"text-davinci-003\",\n",
    "    question=\"recommend perfumes with marshmallow notes\",\n",
    "    instruction=\"Answer the query based on the context below, and if the query can't be answered based on the context, say \\\"My apologies, I don't quite know the answer to that\\\"\\n\\nContext:\\n{0}\\n\\n---\\n\\nQuestion: {1}\\nAnswer:\",\n",
    "    max_len=3550,\n",
    "    size=\"babbage\",\n",
    "    debug=False,\n",
    "    max_tokens=400,\n",
    "    stop_sequence=None,\n",
    "  \n",
    "):\n",
    "    \"\"\"\n",
    "    Answer a question based on the most similar context from the dataframe texts\n",
    "    \"\"\"\n",
    "    context = create_context(\n",
    "        question,\n",
    "        index,\n",
    "        max_len=max_len,\n",
    "        size=size,\n",
    "    )\n",
    "    if debug:\n",
    "        print(\"Context:\\n\" + context)\n",
    "        print(\"\\n\\n\")\n",
    "    try:\n",
    "        # fine-tuned models requires model parameter, whereas other models require engine parameter\n",
    "        model_param = (\n",
    "            {\"model\": fine_tuned_qa_model}\n",
    "            if \":\" in fine_tuned_qa_model\n",
    "            and fine_tuned_qa_model.split(\":\")[1].startswith(\"ft\")\n",
    "            else {\"engine\": fine_tuned_qa_model}\n",
    "        )\n",
    "        print(instruction.format(context, question))\n",
    "        response = openai.Completion.create(\n",
    "            prompt=instruction.format(context, question),\n",
    "            temperature=0,\n",
    "            max_tokens=max_tokens,\n",
    "            top_p=1,\n",
    "            frequency_penalty=0,\n",
    "            presence_penalty=0,\n",
    "            stop=stop_sequence,\n",
    "            **model_param,\n",
    "        )\n",
    "        return response[\"choices\"][0][\"text\"].strip()\n",
    "    except Exception as e:\n",
    "        print(e)\n",
    "        return \"\""
   ]
  },
  {
   "cell_type": "code",
   "execution_count": 132,
   "metadata": {},
   "outputs": [],
   "source": [
    "# a list of instructions\n",
    "instructions = {\n",
    "    \"conservative Q&A\": \"Answer the question based on the context below in a poetic voice,being sure the answer contains a keyword and if the question can't be answered based on the context, say \\\"My apologies, I don't quite know the answer to that\\\"\\n\\nContext:\\n{0}\\n\\n---\\n\\nQuestion: {1}\\nAnswer:\",\n",
    "    \"paragraph about a question\":\"Write a short paragraph in a poetic voice talking to one person, addressing the question, and use the text below to obtain relevant information\\\"\\n\\nContext:\\n{0}\\n\\n---\\n\\nQuestion: {1}\\nParagraph long Answer:\",\n",
    "    \"bullet point\": \"Write a bullet point list of possible answers in a poetic voice talking to one person, addressing the question, and use the text below to obtain relevant information\\\"\\n\\nContext:\\n{0}\\n\\n---\\n\\nQuestion: {1}\\nBullet point Answer:\",\n",
    "    \"summarize problems given a topic\": \"Write a summary of the problems addressed by the questions below in shakespeare's voice,\\\"\\n\\n{0}\\n\\n---\\n\\n\",\n",
    "    \"extract key libraries and tools\": \"Write a list of libraries and tools present in the context below\\\"\\n\\nContext:\\n{0}\\n\\n---\\n\\n\",\n",
    "    \"just instruction\": \"{1} given the common questions and answers below \\n\\n{0}\\n\\n---\\n\\n\",\n",
    "    \"summarize\": \"Write an elaborate, paragraph long summary about \\\"{1}\\\" given the questions and answers from a public forum on this topic\\n\\n{0}\\n\\n---\\n\\nSummary:\",\n",
    "    \"chat\": \"The following is a chat conversation between a  AI perfume recommendation assistant and a user.Write a short paragraph in a poetic voice talking to one person, addressing the question, and use the text below to obtain relevant information\\\"\\n\\nContext:\\n{0}\\n\\n---\\n\\nChat: {1} \"\n",
    "}"
   ]
  },
  {
   "cell_type": "code",
   "execution_count": 115,
   "metadata": {},
   "outputs": [
    {
     "name": "stdout",
     "output_type": "stream",
     "text": [
      "Write a short paragraph in a poetic voice talking to one person, addressing the question, and use the text below to obtain relevant information\"\n",
      "\n",
      "Context:\n",
      "Perfume Name: Honey;Brand: Marc Jacobs;Gender: women;Top Notes: pear,fruity accord,tangerine;Base Notes: vanilla,honeyed notes,woody accord;Heart Notes: honeysuckle,peach,apricot,orange blossom aboslute;Olfactory Family: floral\n",
      "\n",
      "###\n",
      "\n",
      "Perfume Name: Aoud;Brand: M. Micallef;Gender: men;Top Notes: rose;Base Notes: honey,patchouli;Heart Notes: clove,oud,saffron,sandalwood,cinnamon;Olfactory Family: oriental\n",
      "\n",
      "###\n",
      "\n",
      "Perfume Name: Isra & Miraj;Brand: Stéphane Humbert Lucas;Gender: unisex;Top Notes: bergamot,mandarin orange,nutmeg,ceylon cinnamon;Base Notes: mysore sandalwood,amber,patchouli,white musk,leather,oud;Heart Notes: heliotrope,osmanthus absolute,vanilla;Olfactory Family: oriental\n",
      "\n",
      "###\n",
      "\n",
      "Perfume Name: Hypnose Senses;Brand: Lancôme;Gender: women;Top Notes: rose-bay,mandarin;Base Notes: labdanum ciste,benzoin,patchouli,tonka bean;Heart Notes: rose,osmanthus,honey;Olfactory Family: chypre\n",
      "\n",
      "###\n",
      "\n",
      "Perfume Name: Habanita;Brand: Molinard;Gender: women;Top Notes: bergamot,peach,orange tree blossom,raspberry;Base Notes: benzoin,cedar,amber,leather,musk,vanilla,lichen;Heart Notes: heliotrope,jasmine,rose,lilac,ylang-ylang,iris root;Olfactory Family: oriental\n",
      "\n",
      "---\n",
      "\n",
      "Question: recommend perfumes with honey as one of its notes\n",
      "Paragraph long Answer:\n",
      "Ah, honey! Sweet and fragrant, it's the perfect note to add to any perfume. For the ladies, I recommend Marc Jacobs' Honey, with its top notes of pear, fruity accord, and tangerine, and its base notes of vanilla, honeyed notes, and woody accord. For the gentlemen, M. Micallef's Aoud is a great choice, with its top note of rose and base notes of honey and patchouli. For those who prefer a unisex scent, Stéphane Humbert Lucas' Isra & Miraj is a great option, with its top notes of bergamot, mandarin orange, nutmeg, and Ceylon cinnamon, and its base notes of mysore sandalwood, amber, patchouli, white musk, leather, and oud. Lastly, for the ladies, Lancôme's Hypnose Senses is a great choice, with its top notes of rose-bay and mandarin, and its base notes of labdanum ciste, benzoin, patchouli, and tonka bean. Enjoy!\n"
     ]
    }
   ],
   "source": [
    "print(answer_question(index, question=\"recommend perfumes with honey as one of its notes\", \n",
    "                            instruction = instructions[\"paragraph about a question\"], debug=False))"
   ]
  },
  {
   "cell_type": "code",
   "execution_count": 108,
   "metadata": {},
   "outputs": [
    {
     "name": "stdout",
     "output_type": "stream",
     "text": [
      "Write a summary of the problems addressed by the questions below in shakespeare's voice,\"\n",
      "\n",
      "Perfume Name: Mon Paris Intensément;Brand: Yves Saint Laurent;Gender: women;Top Notes: black currant,raspberry,pear,orange,bergamot;Base Notes: patchouli,benzoin,cashmeran,white musk;Heart Notes: bulgarian rose,white peony,freesia,datura;Olfactory Family: floral\n",
      "\n",
      "###\n",
      "\n",
      "Perfume Name: Paris;Brand: Yves Saint Laurent;Gender: women;Top Notes: black currant,orange tree blossom,mimosa,rose,green notes;Base Notes: amber,cedar,heliotrope,moss,musk,sandalwood;Heart Notes: violet,jasmine,lily of the valley,lily,lime,orris,rose,ylang-ylang;Olfactory Family: floral\n",
      "\n",
      "###\n",
      "\n",
      "Perfume Name: Paris Deauville;Brand: Chanel;Gender: unisex;Top Notes: lime,lemon,bergamot,orange,basil,petitgrain;Base Notes: patchouli;Heart Notes: hedione,green notes,rose,jasmine;Olfactory Family: chypre\n",
      "\n",
      "###\n",
      "\n",
      "Perfume Name: Luxury Paris;Brand: SANTINI Cosmetic;Gender: women;Top Notes: cucumber,magnolia,apple,grapefruit;Base Notes: wood,floral notes,sandalwood,amber;Heart Notes: lily of the valley,violet,rose,tuberose;Olfactory Family: fruity\n",
      "\n",
      "###\n",
      "\n",
      "Perfume Name: Eau De Printemps Paris By Yves Saint Laurent;Brand: Yves Saint Laurent;Gender: women;Top Notes: honeysuckle,fruity accents,morning glory;Base Notes: sandalwood,white musks;Heart Notes: violet blossom,rose,peony,jasmine petal;Olfactory Family: floral\n",
      "\n",
      "---\n",
      "\n",
      "\n",
      "'Tis a perplexing puzzle, to be sure, for the perfumes of Paris are many and varied. Yves Saint Laurent offers Mon Paris Intensément, a floral scent with top notes of black currant, raspberry, pear, orange, and bergamot, heart notes of Bulgarian rose, white peony, freesia, and datura, and base notes of patchouli, benzoin, cashmeran, and white musk. Chanel's Paris Deauville is a unisex chypre with top notes of lime, lemon, bergamot, orange, basil, and petitgrain, a heart of hedione, green notes, rose, and jasmine, and a base of patchouli. SANTINI Cosmetic's Luxury Paris is a fruity scent with top notes of cucumber, magnolia, apple, and grapefruit, heart notes of lily of the valley, violet, rose, and tuberose, and base notes of wood, floral notes, sandalwood, and amber. Lastly, Yves Saint Laurent's Eau De Printemps Paris is a floral scent with top notes of honeysuckle, fruity accents, and morning glory, heart notes of violet blossom, rose, peony, and jasmine petal, and base notes of sandalwood and white musks.\n"
     ]
    }
   ],
   "source": [
    "print(answer_question(index, question=\"any parisian perfumes?\", \n",
    "                            instruction = instructions[\"summarize problems given a topic\"], debug=False))"
   ]
  },
  {
   "cell_type": "code",
   "execution_count": 134,
   "metadata": {},
   "outputs": [],
   "source": [
    "# prompting AI to answer questions but as chatbot keepinh track of conversation.\n",
    "def chat(\n",
    "    index,\n",
    "    fine_tuned_qa_model=\"text-davinci-003\",\n",
    "    question=\"i need a perfume with vanilla and lavender top notes\",\n",
    "    instruction=\"Answer the query based on the context below, and if the query can't be answered based on the context, say \\\"I don't know\\\"\\n\\nContext:\\n{0}\\n\\n---\\n\\nQuestion: {1}\\nAnswer:\",\n",
    "    max_len=3550,\n",
    "    size=\"babbage\",\n",
    "    debug=False,\n",
    "    max_tokens=400,\n",
    "    stop_sequence=None,\n",
    "):\n",
    "    \"\"\"\n",
    "    Answer a question based on the most similar context from the dataframe texts\n",
    "    \"\"\"\n",
    "    convo.append(\"User: \" + question)\n",
    "    # remove convo newlines and concat to ctx\n",
    "    ctx =  ('').join((\"\\n\").join(convo).splitlines())\n",
    "    context = create_context(\n",
    "        ctx,\n",
    "        index,\n",
    "        max_len=max_len,\n",
    "        size=size,\n",
    "    )\n",
    "    if debug:\n",
    "        print(\"Context:\\n\" + context)\n",
    "        print(\"\\n\\n\")\n",
    "    try:\n",
    "        # fine-tuned models requires model parameter, whereas other models require engine parameter\n",
    "        model_param = (\n",
    "            {\"model\": fine_tuned_qa_model}\n",
    "            if \":\" in fine_tuned_qa_model\n",
    "            and fine_tuned_qa_model.split(\":\")[1].startswith(\"ft\")\n",
    "            else {\"engine\": fine_tuned_qa_model}\n",
    "        )\n",
    "        print('convo so far ', convo)\n",
    "        print(instruction.format(context, question))\n",
    "        response = openai.Completion.create(\n",
    "            prompt=instruction.format(context, (\"\\n\").join(convo)),\n",
    "            temperature=0,\n",
    "            max_tokens=max_tokens,\n",
    "            top_p=1,\n",
    "            frequency_penalty=0,\n",
    "            presence_penalty=0,\n",
    "            stop=stop_sequence,\n",
    "            **model_param,\n",
    "        )\n",
    "        convo.append(response[\"choices\"][0][\"text\"].strip())\n",
    "        return response[\"choices\"][0][\"text\"].strip()\n",
    "    except Exception as e:\n",
    "        print(e)\n",
    "        return \"\""
   ]
  },
  {
   "cell_type": "code",
   "execution_count": 135,
   "metadata": {},
   "outputs": [],
   "source": [
    "convo = []\n",
    "convo.append(\"AI: Hi there! How may I help you today?\\n\")"
   ]
  },
  {
   "cell_type": "code",
   "execution_count": 136,
   "metadata": {},
   "outputs": [
    {
     "name": "stdout",
     "output_type": "stream",
     "text": [
      "convo so far  ['AI: Hi there! How may I help you today?\\n', 'User: recommend a perfume with milk notes']\n",
      "The following is a chat conversation between a  AI perfume recommendation assistant and a user.Write a short paragraph in a poetic voice talking to one person, addressing the question, and use the text below to obtain relevant information\"\n",
      "\n",
      "Context:\n",
      "Perfume Name: Milk Musk;Brand: Molton Brown;Gender: unisex;Top Notes: elemi resin,milk;Base Notes: benzoin,tonka bean;Heart Notes: musk,ambroxan,vanilla;Olfactory Family: gourmand\n",
      "\n",
      "###\n",
      "\n",
      "Perfume Name: Milano;Brand: Liu Jo;Gender: women;Top Notes: tangerine,orange,almonds;Base Notes: vetiver,tonka beans,patchouli,vanilla;Heart Notes: orange blossom,hazelnut,cocoa;Olfactory Family: oriental\n",
      "\n",
      "###\n",
      "\n",
      "Perfume Name: Lait Concentré;Brand: Chabaud;Gender: women;Top Notes: milk;Base Notes: caramel;Heart Notes: coconut;Olfactory Family: gourmand\n",
      "\n",
      "###\n",
      "\n",
      "Perfume Name: Lait De Vanille;Brand: Chabaud;Gender: unisex;Top Notes: milk;Base Notes: vanilla,caramel;Heart Notes: benzoin;Olfactory Family: gourmand\n",
      "\n",
      "###\n",
      "\n",
      "Perfume Name: A Drop D'Issey;Brand: Issey Miyake;Gender: women;Top Notes: almond milk,orange blossom,damask rose;Base Notes: musk,vanillin,atlas cedar,ambrox;Heart Notes: lilac,star anise,jasmine;Olfactory Family: gourmand\n",
      "\n",
      "---\n",
      "\n",
      "Chat: recommend a perfume with milk notes \n",
      "AI: Sure! I recommend Milk Musk by Molton Brown for a unisex scent, Milano by Liu Jo for a women's scent, Lait Concentré by Chabaud for a women's scent, and Lait De Vanille by Chabaud for a unisex scent. For a more unique scent, I recommend A Drop D'Issey by Issey Miyake for a women's scent. All of these perfumes have milk notes and are part of the gourmand olfactory family.\n"
     ]
    }
   ],
   "source": [
    "print(chat(index, question=\"recommend a perfume with milk notes\", \n",
    "                            instruction = instructions[\"chat\"], debug=False))"
   ]
  },
  {
   "cell_type": "code",
   "execution_count": 137,
   "metadata": {},
   "outputs": [
    {
     "name": "stdout",
     "output_type": "stream",
     "text": [
      "convo so far  ['AI: Hi there! How may I help you today?\\n', 'User: recommend a perfume with milk notes', \"AI: Sure! I recommend Milk Musk by Molton Brown for a unisex scent, Milano by Liu Jo for a women's scent, Lait Concentré by Chabaud for a women's scent, and Lait De Vanille by Chabaud for a unisex scent. For a more unique scent, I recommend A Drop D'Issey by Issey Miyake for a women's scent. All of these perfumes have milk notes and are part of the gourmand olfactory family.\", 'User: how about a scent for the gym']\n",
      "The following is a chat conversation between a  AI perfume recommendation assistant and a user.Write a short paragraph in a poetic voice talking to one person, addressing the question, and use the text below to obtain relevant information\"\n",
      "\n",
      "Context:\n",
      "Perfume Name: A Drop D'Issey;Brand: Issey Miyake;Gender: women;Top Notes: almond milk,orange blossom,damask rose;Base Notes: musk,vanillin,atlas cedar,ambrox;Heart Notes: lilac,star anise,jasmine;Olfactory Family: gourmand\n",
      "\n",
      "###\n",
      "\n",
      "Perfume Name: Milk Musk;Brand: Molton Brown;Gender: unisex;Top Notes: elemi resin,milk;Base Notes: benzoin,tonka bean;Heart Notes: musk,ambroxan,vanilla;Olfactory Family: gourmand\n",
      "\n",
      "###\n",
      "\n",
      "Perfume Name: Aire;Brand: Loewe;Gender: women;Top Notes: aldehydes,basil,bergamot,peach,lemon,citrus fruit,galbanum,jasmine,tangerine,neroli,petitgrain,tangerine,ylang-ylang,green notes,asafoetida;Base Notes: cedar,musk,sandalwood,vanilla,vetiver,oakmoss;Heart Notes: amber,cyclamen,jasmine,carnation,lily of the valley,iris,orris,rose,incense;Olfactory Family: citrus\n",
      "\n",
      "###\n",
      "\n",
      "Perfume Name: Milano;Brand: Liu Jo;Gender: women;Top Notes: tangerine,orange,almonds;Base Notes: vetiver,tonka beans,patchouli,vanilla;Heart Notes: orange blossom,hazelnut,cocoa;Olfactory Family: oriental\n",
      "\n",
      "###\n",
      "\n",
      "Perfume Name: Le Bain;Brand: JOOP!;Gender: women;Top Notes: aldehydes,bergamot,lemon,orange tree blossom;Base Notes: amber,patchouli,tonka beans,vanilla,musk;Heart Notes: cedar,jasmine,lily of the valley,sandalwood,rose;Olfactory Family: oriental\n",
      "\n",
      "---\n",
      "\n",
      "Chat: how about a scent for the gym \n",
      "AI: For a scent to wear to the gym, I recommend Aire by Loewe for a women's scent, and Le Bain by JOOP! for a women's scent. Both of these perfumes have citrus notes and are part of the oriental olfactory family.\n"
     ]
    }
   ],
   "source": [
    "print(chat(index, question=\"how about a scent for the gym\", \n",
    "                            instruction = instructions[\"chat\"], debug=False))"
   ]
  },
  {
   "cell_type": "code",
   "execution_count": 138,
   "metadata": {},
   "outputs": [
    {
     "name": "stdout",
     "output_type": "stream",
     "text": [
      "convo so far  ['AI: Hi there! How may I help you today?\\n', 'User: recommend a perfume with milk notes', \"AI: Sure! I recommend Milk Musk by Molton Brown for a unisex scent, Milano by Liu Jo for a women's scent, Lait Concentré by Chabaud for a women's scent, and Lait De Vanille by Chabaud for a unisex scent. For a more unique scent, I recommend A Drop D'Issey by Issey Miyake for a women's scent. All of these perfumes have milk notes and are part of the gourmand olfactory family.\", 'User: how about a scent for the gym', \"AI: For a scent to wear to the gym, I recommend Aire by Loewe for a women's scent, and Le Bain by JOOP! for a women's scent. Both of these perfumes have citrus notes and are part of the oriental olfactory family.\", 'User: okay, i would like a scent that will last the whole day']\n",
      "The following is a chat conversation between a  AI perfume recommendation assistant and a user.Write a short paragraph in a poetic voice talking to one person, addressing the question, and use the text below to obtain relevant information\"\n",
      "\n",
      "Context:\n",
      "Perfume Name: Aire;Brand: Loewe;Gender: women;Top Notes: aldehydes,basil,bergamot,peach,lemon,citrus fruit,galbanum,jasmine,tangerine,neroli,petitgrain,tangerine,ylang-ylang,green notes,asafoetida;Base Notes: cedar,musk,sandalwood,vanilla,vetiver,oakmoss;Heart Notes: amber,cyclamen,jasmine,carnation,lily of the valley,iris,orris,rose,incense;Olfactory Family: citrus\n",
      "\n",
      "###\n",
      "\n",
      "Perfume Name: Le Bain;Brand: JOOP!;Gender: women;Top Notes: aldehydes,bergamot,lemon,orange tree blossom;Base Notes: amber,patchouli,tonka beans,vanilla,musk;Heart Notes: cedar,jasmine,lily of the valley,sandalwood,rose;Olfactory Family: oriental\n",
      "\n",
      "###\n",
      "\n",
      "Perfume Name: A Drop D'Issey;Brand: Issey Miyake;Gender: women;Top Notes: almond milk,orange blossom,damask rose;Base Notes: musk,vanillin,atlas cedar,ambrox;Heart Notes: lilac,star anise,jasmine;Olfactory Family: gourmand\n",
      "\n",
      "###\n",
      "\n",
      "Perfume Name: Joop! Le Bain;Brand: Joop!;Gender: women;Top Notes: orange blossom,bergamot,lemon,aldehyde notes;Base Notes: vanilla,patchouli,tonka bean,amber;Heart Notes: jasmine,lily-of-the-valley,cedar,sandalwood;Olfactory Family: oriental\n",
      "\n",
      "###\n",
      "\n",
      "Perfume Name: Milano;Brand: Liu Jo;Gender: women;Top Notes: tangerine,orange,almonds;Base Notes: vetiver,tonka beans,patchouli,vanilla;Heart Notes: orange blossom,hazelnut,cocoa;Olfactory Family: oriental\n",
      "\n",
      "---\n",
      "\n",
      "Chat: okay, i would like a scent that will last the whole day \n",
      "AI: For a scent that will last the whole day, I recommend Aire by Loewe for a women's scent, and Le Bain by JOOP! for a women's scent. Both of these perfumes have base notes of cedar, musk, sandalwood, vanilla, and vetiver, which will help the scent last longer.\n"
     ]
    }
   ],
   "source": [
    "print(chat(index, question=\"okay, i would like a scent that will last the whole day\", \n",
    "                            instruction = instructions[\"chat\"], debug=False))"
   ]
  },
  {
   "cell_type": "code",
   "execution_count": 139,
   "metadata": {},
   "outputs": [
    {
     "name": "stdout",
     "output_type": "stream",
     "text": [
      "convo so far  ['AI: Hi there! How may I help you today?\\n', 'User: recommend a perfume with milk notes', \"AI: Sure! I recommend Milk Musk by Molton Brown for a unisex scent, Milano by Liu Jo for a women's scent, Lait Concentré by Chabaud for a women's scent, and Lait De Vanille by Chabaud for a unisex scent. For a more unique scent, I recommend A Drop D'Issey by Issey Miyake for a women's scent. All of these perfumes have milk notes and are part of the gourmand olfactory family.\", 'User: how about a scent for the gym', \"AI: For a scent to wear to the gym, I recommend Aire by Loewe for a women's scent, and Le Bain by JOOP! for a women's scent. Both of these perfumes have citrus notes and are part of the oriental olfactory family.\", 'User: okay, i would like a scent that will last the whole day', \"AI: For a scent that will last the whole day, I recommend Aire by Loewe for a women's scent, and Le Bain by JOOP! for a women's scent. Both of these perfumes have base notes of cedar, musk, sandalwood, vanilla, and vetiver, which will help the scent last longer.\", 'User: some of your perfumes with marshmallows?']\n",
      "The following is a chat conversation between a  AI perfume recommendation assistant and a user.Write a short paragraph in a poetic voice talking to one person, addressing the question, and use the text below to obtain relevant information\"\n",
      "\n",
      "Context:\n",
      "Perfume Name: Aire;Brand: Loewe;Gender: women;Top Notes: aldehydes,basil,bergamot,peach,lemon,citrus fruit,galbanum,jasmine,tangerine,neroli,petitgrain,tangerine,ylang-ylang,green notes,asafoetida;Base Notes: cedar,musk,sandalwood,vanilla,vetiver,oakmoss;Heart Notes: amber,cyclamen,jasmine,carnation,lily of the valley,iris,orris,rose,incense;Olfactory Family: citrus\n",
      "\n",
      "###\n",
      "\n",
      "Perfume Name: Le Bain;Brand: JOOP!;Gender: women;Top Notes: aldehydes,bergamot,lemon,orange tree blossom;Base Notes: amber,patchouli,tonka beans,vanilla,musk;Heart Notes: cedar,jasmine,lily of the valley,sandalwood,rose;Olfactory Family: oriental\n",
      "\n",
      "###\n",
      "\n",
      "Perfume Name: A Drop D'Issey;Brand: Issey Miyake;Gender: women;Top Notes: almond milk,orange blossom,damask rose;Base Notes: musk,vanillin,atlas cedar,ambrox;Heart Notes: lilac,star anise,jasmine;Olfactory Family: gourmand\n",
      "\n",
      "###\n",
      "\n",
      "Perfume Name: Joop! Le Bain;Brand: Joop!;Gender: women;Top Notes: orange blossom,bergamot,lemon,aldehyde notes;Base Notes: vanilla,patchouli,tonka bean,amber;Heart Notes: jasmine,lily-of-the-valley,cedar,sandalwood;Olfactory Family: oriental\n",
      "\n",
      "###\n",
      "\n",
      "Perfume Name: Guimauve;Brand: Reminiscence;Gender: women;Top Notes: almonds,lavender,mint,rosemary,tangerine,orange,green notes,sea notes,bergamot;Base Notes: vanilla,tonka beans,musk,sandalwood,ambergris,patchouli,cedar;Heart Notes: neroli,petitgrain,jasmine,black pepper;Olfactory Family: aromatic\n",
      "\n",
      "---\n",
      "\n",
      "Chat: some of your perfumes with marshmallows? \n",
      "AI: For a perfume with marshmallow notes, I recommend Guimauve by Reminiscence for a women's scent. This perfume has top notes of almonds, lavender, mint, rosemary, tangerine, orange, green notes, sea notes, and bergamot, and heart notes of neroli, petitgrain, jasmine, and black pepper. It is part of the aromatic olfactory family.\n",
      "\n",
      "---\n",
      "\n",
      "Ah, the sweet scent of marshmallows! Let me introduce you to Guimauve by Reminiscence, a women's scent with top notes of almonds, lavender, mint, rosemary, tangerine, orange, green notes, sea notes, and bergamot, and heart notes of neroli, petitgrain, jasmine, and black pepper. It is part of the aromatic olfactory family, and will surely bring a sweet and delightful aroma to your day.\n"
     ]
    }
   ],
   "source": [
    "print(chat(index, question=\"some of your perfumes with marshmallows?\", \n",
    "                            instruction = instructions[\"chat\"], debug=False))"
   ]
  },
  {
   "attachments": {},
   "cell_type": "markdown",
   "metadata": {},
   "source": [
    "I modified the instructions a little bit to pay attention to the difference in notes(top,heart and base notes) and these were some of the results. \n"
   ]
  },
  {
   "cell_type": "code",
   "execution_count": 1,
   "metadata": {},
   "outputs": [],
   "source": [
    " instruction=\"The following is a chat conversation between a  AI perfume recommendation assistant and a user.Write a short paragraph in a poetic voice talking to one person, addressing the question, and use the text below to obtain relevant information.Pay attention to the difference in notes, whether top,base or heart notes.\\\"\\n\\nContext:\\n{0}\\n\\n---\\n\\nChat: {1} \","
   ]
  },
  {
   "attachments": {},
   "cell_type": "markdown",
   "metadata": {},
   "source": [
    "#### Exhibit A"
   ]
  },
  {
   "attachments": {},
   "cell_type": "markdown",
   "metadata": {},
   "source": [
    "<img src=\"images\\specific2gpt3.PNG\">"
   ]
  },
  {
   "attachments": {},
   "cell_type": "markdown",
   "metadata": {},
   "source": [
    "#### Exhbit B"
   ]
  },
  {
   "attachments": {},
   "cell_type": "markdown",
   "metadata": {},
   "source": [
    "<img src=\"images\\specificgpt3.PNG\">"
   ]
  },
  {
   "attachments": {},
   "cell_type": "markdown",
   "metadata": {},
   "source": [
    "### Conclusion\n",
    "\n",
    "The more clearly defined the instructions, the better the output.\n",
    "So far the results are promising, however some improvement may be made e.g  Milano being suggested as a perfume with milk notes, yet it's note listed as one of the ingredients.\n",
    "More information such as user feedback on perfume sillage and preference accompanied by descriptive reviews may help in better recommendations.\n"
   ]
  }
 ],
 "metadata": {
  "kernelspec": {
   "display_name": "Python 3",
   "language": "python",
   "name": "python3"
  },
  "language_info": {
   "codemirror_mode": {
    "name": "ipython",
    "version": 3
   },
   "file_extension": ".py",
   "mimetype": "text/x-python",
   "name": "python",
   "nbconvert_exporter": "python",
   "pygments_lexer": "ipython3",
   "version": "3.11.1"
  },
  "orig_nbformat": 4,
  "vscode": {
   "interpreter": {
    "hash": "0873911fad79c748448388f34a7a5f37ba8a48b5927c4a6c38d28904f822843d"
   }
  }
 },
 "nbformat": 4,
 "nbformat_minor": 2
}
